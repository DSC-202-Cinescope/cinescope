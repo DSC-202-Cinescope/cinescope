{
 "cells": [
  {
   "cell_type": "code",
   "execution_count": 4,
   "id": "c88128e1-5a00-46e8-9d77-bfeb653f631d",
   "metadata": {},
   "outputs": [],
   "source": [
    "import pandas as pd\n",
    "from neo4j import GraphDatabase\n",
    "\n",
    "# Adjust these as needed\n",
    "BOLT_URL = \"bolt://neo4j:7687\"\n",
    "NEO4J_USER = \"neo4j\"\n",
    "NEO4J_PASS = \"\"\n",
    "\n",
    "# Path to your CSV file\n",
    "CSV_FILE_PATH = \"/home/jovyan/work/cinescope/data/csv-files/actor-movie-ids-master.csv\"\n",
    "CHUNKSIZE = 10000  # Number of rows per chunk\n",
    "\n",
    "driver = GraphDatabase.driver(BOLT_URL, auth=(NEO4J_USER, NEO4J_PASS))\n",
    "\n",
    "def create_acted_in_relationships(csv_file):\n",
    "    \"\"\"\n",
    "    Reads the CSV in chunks and creates ACTED_IN relationships\n",
    "    between Actor(id=actor_id) and Movie(id=movie_id).\n",
    "    \"\"\"\n",
    "    with pd.read_csv(csv_file, chunksize=CHUNKSIZE) as reader:\n",
    "        for df_chunk in reader:\n",
    "            # Convert columns to int if they're not already\n",
    "            df_chunk[\"actor_id\"] = df_chunk[\"actor_id\"].astype(int)\n",
    "            df_chunk[\"movie_id\"] = df_chunk[\"movie_id\"].astype(int)\n",
    "\n",
    "            # For performance, we'll gather Cypher parameters\n",
    "            # and run them in batches.\n",
    "            records = df_chunk.to_dict(\"records\")\n",
    "\n",
    "            with driver.session() as session:\n",
    "                session.execute_write(batch_merge_acted_in, records)\n",
    "\n",
    "def batch_merge_acted_in(tx, records):\n",
    "    \"\"\"\n",
    "    Executes MERGE statements in batches for the given records.\n",
    "    Each record is a dict with 'actor_id' and 'movie_id'.\n",
    "    \"\"\"\n",
    "    # We'll build a single Cypher query with UNWIND for efficiency.\n",
    "    query = \"\"\"\n",
    "    UNWIND $pairs AS row\n",
    "    MATCH (a:Actor {id: row.actor_id})\n",
    "    MATCH (m:Movie {id: row.movie_id})\n",
    "    MERGE (a)-[:ACTED_IN]->(m)\n",
    "    \"\"\"\n",
    "    tx.run(query, pairs=records)\n",
    "\n",
    "if __name__ == \"__main__\":\n",
    "    create_acted_in_relationships(CSV_FILE_PATH)\n",
    "    driver.close()\n"
   ]
  },
  {
   "cell_type": "code",
   "execution_count": null,
   "id": "375f8668-1275-4849-bdf2-bdc5514515f8",
   "metadata": {},
   "outputs": [],
   "source": []
  }
 ],
 "metadata": {
  "kernelspec": {
   "display_name": "Python 3 (ipykernel)",
   "language": "python",
   "name": "python3"
  },
  "language_info": {
   "codemirror_mode": {
    "name": "ipython",
    "version": 3
   },
   "file_extension": ".py",
   "mimetype": "text/x-python",
   "name": "python",
   "nbconvert_exporter": "python",
   "pygments_lexer": "ipython3",
   "version": "3.12.9"
  }
 },
 "nbformat": 4,
 "nbformat_minor": 5
}
