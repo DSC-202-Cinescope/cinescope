{
 "cells": [
  {
   "cell_type": "markdown",
   "id": "ab7f1a11-7c27-47c7-9f0d-a9b8873565d3",
   "metadata": {},
   "source": [
    "# Cinescope Postgres and Redis Tests"
   ]
  },
  {
   "cell_type": "markdown",
   "id": "141e4b3b-f398-43ca-acea-772c0ee35888",
   "metadata": {},
   "source": [
    "### Install Dependencies for notebook testing"
   ]
  },
  {
   "cell_type": "code",
   "execution_count": null,
   "id": "cd43f0a5-ee61-4a7f-b22d-85400cca1a9f",
   "metadata": {},
   "outputs": [],
   "source": [
    "pip install psycopg2-binary pandas matplotlib redis"
   ]
  },
  {
   "cell_type": "markdown",
   "id": "029e742e-7981-4296-90eb-c661c6d7f7f9",
   "metadata": {},
   "source": [
    "### Import our packages for the project"
   ]
  },
  {
   "cell_type": "code",
   "execution_count": null,
   "id": "1e63ab9d-aef8-487d-85d7-128e8d692753",
   "metadata": {},
   "outputs": [],
   "source": [
    "import decimal \n",
    "import json\n",
    "import redis\n",
    "import re\n",
    "import psycopg2\n",
    "import pandas as pd\n",
    "import numpy as np\n",
    "import matplotlib.pyplot as plt\n",
    "\n",
    "from config import config"
   ]
  },
  {
   "cell_type": "markdown",
   "id": "df1d6afd-3928-4e74-a886-f6901ada93de",
   "metadata": {},
   "source": [
    "## Test the connection to the Postgres Database"
   ]
  },
  {
   "cell_type": "code",
   "execution_count": null,
   "id": "53b0a8c9-71ee-4cb5-92a7-5a315a527397",
   "metadata": {},
   "outputs": [],
   "source": [
    "# Establish a connection\n",
    "def connect():\n",
    "    \"\"\" Connect to the PostgreSQL database server \"\"\"\n",
    "    conn = None\n",
    "    try:\n",
    "        # read connection parameters-=--\n",
    "        params = config()\n",
    " \n",
    "        # connect to the PostgreSQL server\n",
    "        print('Connecting to the PostgreSQL database...')\n",
    "        conn = psycopg2.connect(**params)\n",
    "      \n",
    "        # create a cursor\n",
    "        cur = conn.cursor()\n",
    "        \n",
    "   # execute a statement\n",
    "        print('PostgreSQL database version:')\n",
    "        cur.execute('SELECT version()')\n",
    " \n",
    "        # display the PostgreSQL database server version\n",
    "        db_version = cur.fetchone()\n",
    "        print(db_version)\n",
    "       \n",
    "       # close the communication with postgres\n",
    "        cur.close()\n",
    "    except (Exception, psycopg2.DatabaseError) as error:\n",
    "        print(error)\n",
    "    finally:\n",
    "        if conn is not None:\n",
    "            conn.close()\n",
    "            print('Database connection closed.')\n",
    " \n",
    " \n",
    "if __name__ == '__main__':\n",
    "    connect()"
   ]
  },
  {
   "cell_type": "markdown",
   "id": "20d145dc-0b90-4a67-bc43-354b027b3ce3",
   "metadata": {},
   "source": [
    "## Run a basic query to return our SQL tables"
   ]
  },
  {
   "cell_type": "code",
   "execution_count": null,
   "id": "635a6e77-f35a-49ff-afc7-77845d05a7b0",
   "metadata": {},
   "outputs": [],
   "source": [
    "def getTables():\n",
    "    \"\"\"Return a list of table names in the database.\"\"\"\n",
    "    conn = None\n",
    "    tables = []\n",
    "    try:\n",
    "        params = config()\n",
    "        conn = psycopg2.connect(**params)\n",
    "        cur = conn.cursor()\n",
    "        cur.execute(\"\"\"SELECT table_name FROM information_schema.tables WHERE table_schema = 'public'\"\"\")\n",
    "        \n",
    "        tables = [table[0] for table in cur.fetchall()]  # Convert tuples to a list of strings\n",
    "        cur.close()\n",
    "    except (Exception, psycopg2.DatabaseError) as error:\n",
    "        print(f\"Database error: {error}\")\n",
    "    finally:\n",
    "        if conn is not None:\n",
    "            conn.close()\n",
    "    \n",
    "    return tables  # Return the list\n",
    "\n",
    "# Now call the function and iterate over the result\n",
    "tables = getTables()\n",
    "\n",
    "for t in tables:\n",
    "    print(t)\n"
   ]
  },
  {
   "cell_type": "markdown",
   "id": "63023887-b15e-4bf4-93a0-6df12d379ebe",
   "metadata": {},
   "source": [
    "## Print our postgres columns from function inputs"
   ]
  },
  {
   "cell_type": "code",
   "execution_count": null,
   "id": "6cdfcb8d-03d9-4a79-960c-f98a005f5a5f",
   "metadata": {},
   "outputs": [],
   "source": [
    "def getColumns(schema, table):\n",
    "    \"\"\"Return the column names of the given table.\"\"\"\n",
    "    conn = None\n",
    "    column_names = []\n",
    "    try:\n",
    "        params = config()\n",
    "        conn = psycopg2.connect(**params)\n",
    "        cur = conn.cursor()\n",
    "\n",
    "        sql_command = f\"\"\"\n",
    "        SELECT column_name FROM information_schema.columns \n",
    "        WHERE table_schema = '{schema}' AND table_name = '{table}'\n",
    "        \"\"\"\n",
    "\n",
    "        cur.execute(sql_command)\n",
    "        column_names = [row[0] for row in cur.fetchall()]\n",
    "\n",
    "        cur.close()\n",
    "    except (Exception, psycopg2.DatabaseError) as error:\n",
    "        print(f\"Database error: {error}\")\n",
    "    finally:\n",
    "        if conn is not None:\n",
    "            conn.close()\n",
    "    \n",
    "    return column_names\n",
    "\n",
    "for t in tables:\n",
    "    table = t\n",
    "    print(\"Table: %s\" % table)\n",
    "    columns = getColumns(\"public\", table)\n",
    "    print(f\"{table}: {columns}\")\n"
   ]
  },
  {
   "cell_type": "markdown",
   "id": "0f7ff242-4575-43bb-8ad4-9fb3b77e90ae",
   "metadata": {},
   "source": [
    "## Test the Redis connection"
   ]
  },
  {
   "cell_type": "code",
   "execution_count": null,
   "id": "9d89ef7b-0230-4171-af04-c2c9556b0611",
   "metadata": {},
   "outputs": [],
   "source": [
    "def test_redis():\n",
    "    try:\n",
    "        # Set a test key-value pair in Redis\n",
    "        redis_client.set(\"test_key\", \"Hello, Redis!\")\n",
    "\n",
    "        # Retrieve the value from Redis\n",
    "        redis_value = redis_client.get(\"test_key\")\n",
    "\n",
    "        if redis_value:\n",
    "            return f\"Redis test successful! Value: {redis_value}\", 200\n",
    "        else:\n",
    "            return \"Failed to retrieve value from Redis.\", 500\n",
    "    except Exception as e:\n",
    "        return f\"Error connecting to Redis: {str(e)}\", 500\n",
    "test_redis()"
   ]
  },
  {
   "cell_type": "markdown",
   "id": "641d9d89-2167-49f1-8e6b-c3e4807a742e",
   "metadata": {},
   "source": [
    "## Test returning our genres with redis enabled"
   ]
  },
  {
   "cell_type": "code",
   "execution_count": null,
   "id": "0b4afdaa-0b30-402b-b11a-7a8968e192bf",
   "metadata": {},
   "outputs": [],
   "source": [
    "def getGenres(schema, table):\n",
    "    \"\"\"Return the genre names from the given schema and table, using caching.\"\"\"\n",
    "    genre_names = []\n",
    "    try:\n",
    "        params = config()\n",
    "        conn = psycopg2.connect(**params)\n",
    "        cur = conn.cursor()\n",
    "\n",
    "        sql_command = f\"SELECT name FROM {schema}.{table};\"\n",
    "        cache_key = f\"genres_query:{sql_command}\"\n",
    "        \n",
    "        # Check if the query result is in Redis cache\n",
    "        cached_result = redis_client.get(cache_key)\n",
    "        if cached_result:\n",
    "            print(\"Cached result: \")\n",
    "            return json.loads(cached_result)\n",
    "\n",
    "        # If not cached, execute the SQL query\n",
    "        cur.execute(sql_command)\n",
    "        genre_names = [row[0] for row in cur.fetchall()]\n",
    "\n",
    "        # Cache the result in Redis\n",
    "        redis_client.setex(cache_key, 600000, json.dumps(genre_names))\n",
    "\n",
    "        cur.close()\n",
    "    except (Exception, psycopg2.DatabaseError) as error:\n",
    "        print(f\"Database error: {error}\")\n",
    "    finally:\n",
    "        if conn is not None:\n",
    "            conn.close()\n",
    "\n",
    "    return genre_names\n",
    "\n",
    "# Example usage:\n",
    "genres = getGenres(\"public\", \"genre\")\n",
    "print(genres)"
   ]
  },
  {
   "cell_type": "markdown",
   "id": "37f06980-e05a-4790-b99a-ea8f893018a6",
   "metadata": {},
   "source": [
    "## Test returning our Genre Ids with Redis enabled"
   ]
  },
  {
   "cell_type": "code",
   "execution_count": null,
   "id": "0ba82440-1ae0-4ae6-acfa-7709b70d0611",
   "metadata": {},
   "outputs": [],
   "source": [
    "def getGenreId(schema, table, genre_name):\n",
    "    \"\"\"genre ID corresponding to the selected genre name.\"\"\"\n",
    "    conn = None\n",
    "    genre_id = None\n",
    "    try:\n",
    "        params = config()\n",
    "        conn = psycopg2.connect(**params)\n",
    "        cur = conn.cursor()\n",
    "\n",
    "        sql_command = f\"SELECT id FROM {schema}.{table} WHERE name = %s;\"\n",
    "        cache_key = f\"genre_id_query:{sql_command}\"\n",
    "\n",
    "         # Check if the query result is in Redis cache\n",
    "        cached_result = redis_client.get(cache_key)\n",
    "        if cached_result:\n",
    "            print(\"cached result: \")\n",
    "            return json.loads(cached_result)\n",
    "        \n",
    "        cur.execute(sql_command, (genre_name,))\n",
    "        result = cur.fetchone() \n",
    " \n",
    "        if result:\n",
    "            genre_id = result[0]\n",
    "            \n",
    "        redis_client.setex(cache_key, 600000, json.dumps(genre_id))\n",
    "        \n",
    "        cur.close()\n",
    "    except (Exception, psycopg2.DatabaseError) as error:\n",
    "        print(f\"Database error: {error}\")\n",
    "    finally:\n",
    "        if conn is not None:\n",
    "            conn.close()\n",
    "    \n",
    "    return genre_id\n",
    "genre_id = getGenreId(\"public\", \"genre\", \"Action\")\n",
    "print(genre_id)"
   ]
  },
  {
   "cell_type": "markdown",
   "id": "81edb7d8-142c-485c-896d-d2b7ee840969",
   "metadata": {},
   "source": [
    "## Test Retrieving our languages with redis enabled"
   ]
  },
  {
   "cell_type": "code",
   "execution_count": null,
   "id": "d73141a7-01ef-4bc5-8ef2-baaf01ac088a",
   "metadata": {},
   "outputs": [],
   "source": [
    "def getLanguages():\n",
    "    conn = None\n",
    "    languages = []\n",
    "    try:\n",
    "        params = config()\n",
    "        conn = psycopg2.connect(**params)\n",
    "        cur = conn.cursor()\n",
    "        sql_command = f\"SELECT DISTINCT original_language FROM movies WHERE original_language IS NOT NULL ORDER BY original_language;\"\n",
    "\n",
    "        cache_key = f\"lang_query:{sql_command}\"\n",
    "        \n",
    "        cached_result = redis_client.get(cache_key)\n",
    "        if cached_result:\n",
    "            print(\"cached result: \")\n",
    "            return json.loads(cached_result)\n",
    "            \n",
    "        cur.execute(sql_command)\n",
    "        rows = cur.fetchall()\n",
    "\n",
    "        languages = [(row[0], LANGUAGE_MAP.get(row[0], row[0])) for row in rows]\n",
    "        redis_client.setex(cache_key, 600000, json.dumps(languages))\n",
    "        \n",
    "        cur.close()\n",
    "    except (Exception, psycopg2.DatabaseError) as error:\n",
    "        print(f\"Database error: {error}\")\n",
    "    finally:\n",
    "        if conn is not None:\n",
    "            conn.close()\n",
    "    \n",
    "    return languages\n",
    "lang = getLanguages()\n",
    "print(lang)"
   ]
  },
  {
   "cell_type": "markdown",
   "id": "8847ce79-c679-4e24-b638-0881edc5c006",
   "metadata": {},
   "source": [
    "## Test the Top 5 Movie Query with Redis enabled"
   ]
  },
  {
   "cell_type": "code",
   "execution_count": null,
   "id": "f793b17d-b719-4427-8547-6cdf804257b6",
   "metadata": {},
   "outputs": [],
   "source": [
    "def decimal_default(obj):\n",
    "    \"\"\"Convert Decimal to float or string for JSON serialization.\"\"\"\n",
    "    if isinstance(obj, decimal.Decimal):\n",
    "        return float(obj)\n",
    "    raise TypeError(\"Type not serializable\")\n",
    "    \n",
    "def getMoviesByGenreAndLanguage(genre_id, language):\n",
    "    \"\"\"Run the Movie Query.\"\"\"\n",
    "    conn = None\n",
    "    movies = []\n",
    "    try:\n",
    "        params = config()\n",
    "        conn = psycopg2.connect(**params)\n",
    "        cur = conn.cursor()\n",
    "\n",
    "        with open(\"../sql/genre-lookup-Copy1.sql\", \"r\") as file:\n",
    "            sql_query = file.read()\n",
    "\n",
    "        sql_query = sql_query.replace(\"{GENRE_ID}\", str(genre_id))\n",
    "        sql_query = sql_query.replace(\"{LANGUAGE_PARAM}\", language)\n",
    "\n",
    "        cache_key = f\"{genre_id}_{language}_test_query:{sql_query}\"\n",
    "        cached_result = redis_client.get(cache_key)\n",
    "        if cached_result:\n",
    "            print(\"cached result: \")\n",
    "            return json.loads(cached_result)\n",
    "            \n",
    "        cur.execute(sql_query)\n",
    "        movies = cur.fetchall()\n",
    "\n",
    "        redis_client.setex(cache_key, 600000, json.dumps(movies, default=decimal_default))\n",
    "        cur.close()\n",
    "    except (Exception, psycopg2.DatabaseError) as error:\n",
    "        print(f\"Database error: {error}\")\n",
    "    finally:\n",
    "        if conn is not None:\n",
    "            conn.close()\n",
    "\n",
    "    return movies\n",
    "\n",
    "movies = getMoviesByGenreAndLanguage(28, 'en')\n",
    "movie_names = [movie[0] for movie in movies]\n",
    "\n",
    "print(movie_names)"
   ]
  },
  {
   "cell_type": "markdown",
   "id": "6c8c303b-75e6-48f7-b3c2-a794f728b5be",
   "metadata": {},
   "source": [
    "# Gather the normalized votes per movie"
   ]
  },
  {
   "cell_type": "code",
   "execution_count": null,
   "id": "960b3e31-1d7c-400d-b59b-e7e7f3ffd1a6",
   "metadata": {},
   "outputs": [],
   "source": [
    "df = pd.read_csv('../data/csv-files/movies-master.csv')\n",
    "print(len(df))\n",
    "plt.figure(figsize=(12, 6))\n",
    "\n",
    "with np.errstate(divide='ignore', invalid='ignore'):\n",
    "        logDF = np.log(df['vote_count'])\n",
    "\n",
    "plt.scatter(range(len(df)), logDF, color='blue', alpha=0.5)\n",
    "\n",
    "plt.title('Distribution of Vote Counts by Movie - Normalized')\n",
    "plt.xlabel('Movies')\n",
    "plt.ylabel('Votes Cast')\n",
    "\n",
    "plt.ylim(0, 25)\n",
    "\n",
    "plt.grid(True)\n",
    "\n",
    "plt.show()\n"
   ]
  },
  {
   "cell_type": "code",
   "execution_count": null,
   "id": "2fcde267-388d-4c22-856d-4d6994a183f8",
   "metadata": {},
   "outputs": [],
   "source": [
    "mean_vc = df['vote_count'].mean()"
   ]
  },
  {
   "cell_type": "code",
   "execution_count": null,
   "id": "55ec1787-0c39-4ab7-b58b-f1f58aa220d8",
   "metadata": {},
   "outputs": [],
   "source": [
    "print(np.log(mean_vc * 10))"
   ]
  },
  {
   "cell_type": "code",
   "execution_count": null,
   "id": "90de3c01-62d1-46f1-9ef0-bc882dac3d86",
   "metadata": {},
   "outputs": [],
   "source": [
    "print(np.log(mean_vc * 2))"
   ]
  },
  {
   "cell_type": "markdown",
   "id": "7a4a47d7-6295-40b6-825d-21b3009fa43d",
   "metadata": {},
   "source": [
    "## Query the movie columns when a specific film title is matched"
   ]
  },
  {
   "cell_type": "code",
   "execution_count": null,
   "id": "477dbd9b-4770-487a-9a35-be8f83d5a113",
   "metadata": {},
   "outputs": [],
   "source": [
    "def getMovieByTitle(schema, table, title):\n",
    "    \"\"\"Return all columns for the movie table where the title matches the given value.\"\"\"\n",
    "    conn = None\n",
    "    movie_info = []\n",
    "    try:\n",
    "        # Get database connection parameters\n",
    "        params = config()\n",
    "        conn = psycopg2.connect(**params)\n",
    "        cur = conn.cursor()\n",
    "\n",
    "        # SQL query to fetch all information for the movie with the matching title\n",
    "        sql_command = f\"\"\"\n",
    "        SELECT * FROM {schema}.{table} \n",
    "        WHERE title = %s\n",
    "        \"\"\"\n",
    "\n",
    "        # Execute the query\n",
    "        cur.execute(sql_command, (title,))\n",
    "        movie_info = cur.fetchall()  # Fetch all results\n",
    "\n",
    "        cur.close()\n",
    "    except (Exception, psycopg2.DatabaseError) as error:\n",
    "        print(f\"Database error: {error}\")\n",
    "    finally:\n",
    "        if conn is not None:\n",
    "            conn.close()\n",
    "\n",
    "    return movie_info\n",
    "\n",
    "# Define the schema and table\n",
    "schema = \"public\"\n",
    "table = \"movies\"\n",
    "title = \"The Dark Knight\"\n",
    "\n",
    "# Get movie information based on title\n",
    "movie_details = getMovieByTitle(schema, table, title)\n",
    "\n",
    "# Print the details\n",
    "if movie_details:\n",
    "    for row in movie_details:\n",
    "        print(f\"Movie Details: {row}\")\n",
    "else:\n",
    "    print(\"No movie found with that title.\")\n"
   ]
  }
 ],
 "metadata": {
  "kernelspec": {
   "display_name": "Python 3 (ipykernel)",
   "language": "python",
   "name": "python3"
  },
  "language_info": {
   "codemirror_mode": {
    "name": "ipython",
    "version": 3
   },
   "file_extension": ".py",
   "mimetype": "text/x-python",
   "name": "python",
   "nbconvert_exporter": "python",
   "pygments_lexer": "ipython3",
   "version": "3.12.9"
  }
 },
 "nbformat": 4,
 "nbformat_minor": 5
}
