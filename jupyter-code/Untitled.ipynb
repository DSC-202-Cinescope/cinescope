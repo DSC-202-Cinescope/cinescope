{
 "cells": [
  {
   "cell_type": "code",
   "execution_count": 5,
   "id": "68ad6143-0c4f-472a-b079-c02147ab7f06",
   "metadata": {},
   "outputs": [
    {
     "name": "stdout",
     "output_type": "stream",
     "text": [
      "[{'title': 'Cheating Housewives', 'classification': 'Low'}, {'title': 'Lagoon: Rock and Rollercoasters', 'classification': 'Low'}, {'title': 'Infinite Night', 'classification': 'Low'}, {'title': 'The Mystery of Mr. E', 'classification': 'High'}, {'title': 'Il volatore di aquiloni', 'classification': 'High'}, {'title': 'Porter Wagoner: Country Legends Live Mini Concert', 'classification': 'Low'}, {'title': 'The Rosenberg Trio - Nice Jazz Festival', 'classification': 'High'}, {'title': 'Club Brandy', 'classification': 'High'}, {'title': 'Abominable Black Man', 'classification': 'Low'}, {'title': 'Xulduburnoldur', 'classification': 'High'}]\n"
     ]
    }
   ],
   "source": [
    "import json\n",
    "\n",
    "\n",
    "\n",
    "with open(\"random_movies.json\", \"r\", encoding=\"utf-8\") as f:\n",
    "    MOVIE_CLASSIFICATIONS = json.load(f)\n",
    "print (MOVIE_CLASSIFICATIONS)"
   ]
  },
  {
   "cell_type": "code",
   "execution_count": null,
   "id": "63fc7161-2e5b-4fb4-9c54-bea2d6d7a0b8",
   "metadata": {},
   "outputs": [],
   "source": []
  }
 ],
 "metadata": {
  "kernelspec": {
   "display_name": "Python 3 (ipykernel)",
   "language": "python",
   "name": "python3"
  },
  "language_info": {
   "codemirror_mode": {
    "name": "ipython",
    "version": 3
   },
   "file_extension": ".py",
   "mimetype": "text/x-python",
   "name": "python",
   "nbconvert_exporter": "python",
   "pygments_lexer": "ipython3",
   "version": "3.12.9"
  }
 },
 "nbformat": 4,
 "nbformat_minor": 5
}
