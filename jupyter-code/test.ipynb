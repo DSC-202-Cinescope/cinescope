{
 "cells": [
  {
   "cell_type": "code",
   "execution_count": 8,
   "id": "fdb36d14-6486-41ac-ae04-ae245dde43fb",
   "metadata": {},
   "outputs": [
    {
     "name": "stdout",
     "output_type": "stream",
     "text": [
      "Columns: ['adult', 'id', 'original_title', 'popularity', 'video']\n",
      "First few rows:\n",
      "   adult     id                      original_title  popularity  video\n",
      "0  False   3924                             Blondie       1.888  False\n",
      "1  False   6124                 Der Mann ohne Namen       0.353  False\n",
      "2  False   8773                 L'Amour à vingt ans       5.533  False\n",
      "3  False  25449  New World Disorder 9: Never Enough       1.036  False\n",
      "4  False  31975      Sesame Street: Elmo Loves You!       0.003   True\n",
      "DataFrame info:\n",
      "<class 'pandas.core.frame.DataFrame'>\n",
      "RangeIndex: 1026803 entries, 0 to 1026802\n",
      "Data columns (total 5 columns):\n",
      " #   Column          Non-Null Count    Dtype  \n",
      "---  ------          --------------    -----  \n",
      " 0   adult           1026803 non-null  bool   \n",
      " 1   id              1026803 non-null  int64  \n",
      " 2   original_title  1026795 non-null  object \n",
      " 3   popularity      1026803 non-null  float64\n",
      " 4   video           1026803 non-null  bool   \n",
      "dtypes: bool(2), float64(1), int64(1), object(1)\n",
      "memory usage: 25.5+ MB\n"
     ]
    }
   ],
   "source": [
    "import pandas as pd\n",
    "\n",
    "# Example for one CSV file:\n",
    "file_path = \"~/work/cinescope/data/csv-files/movie_ids.csv\"\n",
    "df = pd.read_csv(file_path)\n",
    "\n",
    "# Print basic info\n",
    "print(\"Columns:\", df.columns.tolist())\n",
    "print(\"First few rows:\")\n",
    "print(df.head(5))\n",
    "print(\"DataFrame info:\")\n",
    "df.info()"
   ]
  },
  {
   "cell_type": "code",
   "execution_count": null,
   "id": "1af45b00-4f87-4ed2-9701-cd0cca2f77bc",
   "metadata": {},
   "outputs": [],
   "source": []
  }
 ],
 "metadata": {
  "kernelspec": {
   "display_name": "Python 3 (ipykernel)",
   "language": "python",
   "name": "python3"
  },
  "language_info": {
   "codemirror_mode": {
    "name": "ipython",
    "version": 3
   },
   "file_extension": ".py",
   "mimetype": "text/x-python",
   "name": "python",
   "nbconvert_exporter": "python",
   "pygments_lexer": "ipython3",
   "version": "3.12.9"
  }
 },
 "nbformat": 4,
 "nbformat_minor": 5
}
