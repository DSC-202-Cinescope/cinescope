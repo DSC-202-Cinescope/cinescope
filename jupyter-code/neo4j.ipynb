{
 "cells": [
  {
   "cell_type": "code",
   "execution_count": 1,
   "id": "0910de2c-89bb-4310-9ebe-8459e6c40006",
   "metadata": {},
   "outputs": [
    {
     "name": "stdout",
     "output_type": "stream",
     "text": [
      "\u001b[33mWARNING: The directory '/home/jovyan/.cache/pip' or its parent directory is not owned or is not writable by the current user. The cache has been disabled. Check the permissions and owner of that directory. If executing pip with sudo, you should use sudo's -H flag.\u001b[0m\u001b[33m\n",
      "Collecting neo4j\n",
      "  Downloading neo4j-5.28.1-py3-none-any.whl.metadata (5.9 kB)\n",
      "Requirement already satisfied: pytz in /opt/conda/lib/python3.12/site-packages (from neo4j) (2025.1)\n",
      "Downloading neo4j-5.28.1-py3-none-any.whl (312 kB)\n",
      "Installing collected packages: neo4j\n",
      "Successfully installed neo4j-5.28.1\n",
      "\u001b[33mWARNING: Running pip as the 'root' user can result in broken permissions and conflicting behaviour with the system package manager, possibly rendering your system unusable. It is recommended to use a virtual environment instead: https://pip.pypa.io/warnings/venv. Use the --root-user-action option if you know what you are doing and want to suppress this warning.\u001b[0m\u001b[33m\n",
      "\u001b[0m"
     ]
    }
   ],
   "source": [
    "!pip install neo4j"
   ]
  },
  {
   "cell_type": "code",
   "execution_count": 10,
   "id": "db2731af-ee52-4f30-908d-1a61841ca963",
   "metadata": {},
   "outputs": [
    {
     "name": "stdout",
     "output_type": "stream",
     "text": [
      "Hello, Neo4j!\n"
     ]
    }
   ],
   "source": [
    "from neo4j import GraphDatabase\n",
    "\n",
    "neo4j_uri = \"bolt://neo4j:7687\"  # Using the forwarded Bolt port\n",
    "neo4j_username = \"neo4j\"\n",
    "neo4j_password = \"\"  # No password, as configured\n",
    "\n",
    "driver = GraphDatabase.driver(neo4j_uri, auth=(neo4j_username, neo4j_password))\n",
    "\n",
    "def test_connection():\n",
    "    with driver.session() as session:\n",
    "        result = session.run(\"RETURN 'Hello, Neo4j!' AS greeting\")\n",
    "        for record in result:\n",
    "            print(record[\"greeting\"])\n",
    "\n",
    "test_connection()\n"
   ]
  },
  {
   "cell_type": "code",
   "execution_count": 11,
   "id": "f8b09db8-ea7f-4062-9a21-34ee917a0566",
   "metadata": {},
   "outputs": [
    {
     "ename": "NameError",
     "evalue": "name 'genres_list' is not defined",
     "output_type": "error",
     "traceback": [
      "\u001b[31m---------------------------------------------------------------------------\u001b[39m",
      "\u001b[31mNameError\u001b[39m                                 Traceback (most recent call last)",
      "\u001b[36mCell\u001b[39m\u001b[36m \u001b[39m\u001b[32mIn[11]\u001b[39m\u001b[32m, line 3\u001b[39m\n\u001b[32m      1\u001b[39m \u001b[38;5;28;01mwith\u001b[39;00m driver.session() \u001b[38;5;28;01mas\u001b[39;00m session:\n\u001b[32m      2\u001b[39m     \u001b[38;5;66;03m# First, create Genre nodes\u001b[39;00m\n\u001b[32m----> \u001b[39m\u001b[32m3\u001b[39m     \u001b[38;5;28;01mfor\u001b[39;00m genre_name \u001b[38;5;129;01min\u001b[39;00m \u001b[43mgenres_list\u001b[49m:\n\u001b[32m      4\u001b[39m         session.run(\n\u001b[32m      5\u001b[39m             \u001b[33m\"\u001b[39m\u001b[33mMERGE (g:Genre \u001b[39m\u001b[33m{\u001b[39m\u001b[33mname: $name})\u001b[39m\u001b[33m\"\u001b[39m,\n\u001b[32m      6\u001b[39m             {\u001b[33m\"\u001b[39m\u001b[33mname\u001b[39m\u001b[33m\"\u001b[39m: genre_name}\n\u001b[32m      7\u001b[39m         )\n\u001b[32m      8\u001b[39m     \u001b[38;5;66;03m# Next, create Movie and Actor nodes, and relationships\u001b[39;00m\n",
      "\u001b[31mNameError\u001b[39m: name 'genres_list' is not defined"
     ]
    }
   ],
   "source": [
    "with driver.session() as session:\n",
    "    # First, create Genre nodes\n",
    "    for genre_name in genres_list:\n",
    "        session.run(\n",
    "            \"MERGE (g:Genre {name: $name})\",\n",
    "            {\"name\": genre_name}\n",
    "        )\n",
    "    # Next, create Movie and Actor nodes, and relationships\n",
    "    for genre_name, movies in top5_movies_by_genre.items():\n",
    "        for movie in movies:  # movie contains title, year, popularity\n",
    "            session.run(\n",
    "                \"\"\"\n",
    "                MERGE (m:Movie {title: $title})\n",
    "                ON CREATE SET m.release_year = $year, m.popularity = $pop\n",
    "                MERGE (g:Genre {name: $genre})\n",
    "                MERGE (m)-[:HAS_GENRE]->(g)\n",
    "                \"\"\",\n",
    "                {\n",
    "                    \"title\": movie.title,\n",
    "                    \"year\": movie.release_year,\n",
    "                    \"pop\": movie.popularity,\n",
    "                    \"genre\": genre_name\n",
    "                }\n",
    "            )\n",
    "            # Create Actor nodes and ACTED_IN relationships for this movie\n",
    "            for actor in movie.actors:  # each actor has name, popularity\n",
    "                session.run(\n",
    "                    \"\"\"\n",
    "                    MERGE (a:Actor {name: $name})\n",
    "                    ON CREATE SET a.popularity = $pop\n",
    "                    MERGE (a)-[:ACTED_IN]->(m)\n",
    "                    \"\"\",\n",
    "                    {\"name\": actor.name, \"pop\": actor.popularity}\n",
    "                )\n",
    "    # Finally, create COACTED_WITH relationships between actors of the same movie\n",
    "    for movie in all_top_movies:\n",
    "        actors = movie.actors\n",
    "        # For each unique pair of actors in this movie:\n",
    "        for i in range(len(actors)):\n",
    "            for j in range(i+1, len(actors)):\n",
    "                session.run(\n",
    "                    \"\"\"\n",
    "                    MATCH (a:Actor {name: $name1}), (b:Actor {name: $name2})\n",
    "                    MERGE (a)-[:COACTED_WITH]-(b)\n",
    "                    \"\"\",\n",
    "                    {\"name1\": actors[i].name, \"name2\": actors[j].name}\n",
    "                )\n"
   ]
  },
  {
   "cell_type": "code",
   "execution_count": null,
   "id": "66dd02a8-0abf-4b83-b538-4911df84d8d3",
   "metadata": {},
   "outputs": [],
   "source": []
  }
 ],
 "metadata": {
  "kernelspec": {
   "display_name": "Python 3 (ipykernel)",
   "language": "python",
   "name": "python3"
  },
  "language_info": {
   "codemirror_mode": {
    "name": "ipython",
    "version": 3
   },
   "file_extension": ".py",
   "mimetype": "text/x-python",
   "name": "python",
   "nbconvert_exporter": "python",
   "pygments_lexer": "ipython3",
   "version": "3.12.9"
  }
 },
 "nbformat": 4,
 "nbformat_minor": 5
}
