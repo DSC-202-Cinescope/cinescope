{
 "cells": [
  {
   "cell_type": "code",
   "execution_count": 11,
   "id": "528dac38-0e5c-4670-8813-a1d350f6d588",
   "metadata": {},
   "outputs": [
    {
     "name": "stdout",
     "output_type": "stream",
     "text": [
      "Requirement already satisfied: openai==0.28 in /opt/conda/lib/python3.12/site-packages (0.28.0)\n",
      "Requirement already satisfied: requests>=2.20 in /opt/conda/lib/python3.12/site-packages (from openai==0.28) (2.32.3)\n",
      "Requirement already satisfied: tqdm in /opt/conda/lib/python3.12/site-packages (from openai==0.28) (4.67.1)\n",
      "Requirement already satisfied: aiohttp in /opt/conda/lib/python3.12/site-packages (from openai==0.28) (3.11.13)\n",
      "Requirement already satisfied: charset_normalizer<4,>=2 in /opt/conda/lib/python3.12/site-packages (from requests>=2.20->openai==0.28) (3.4.1)\n",
      "Requirement already satisfied: idna<4,>=2.5 in /opt/conda/lib/python3.12/site-packages (from requests>=2.20->openai==0.28) (3.10)\n",
      "Requirement already satisfied: urllib3<3,>=1.21.1 in /opt/conda/lib/python3.12/site-packages (from requests>=2.20->openai==0.28) (2.3.0)\n",
      "Requirement already satisfied: certifi>=2017.4.17 in /opt/conda/lib/python3.12/site-packages (from requests>=2.20->openai==0.28) (2025.1.31)\n",
      "Requirement already satisfied: aiohappyeyeballs>=2.3.0 in /opt/conda/lib/python3.12/site-packages (from aiohttp->openai==0.28) (2.5.0)\n",
      "Requirement already satisfied: aiosignal>=1.1.2 in /opt/conda/lib/python3.12/site-packages (from aiohttp->openai==0.28) (1.3.2)\n",
      "Requirement already satisfied: attrs>=17.3.0 in /opt/conda/lib/python3.12/site-packages (from aiohttp->openai==0.28) (25.1.0)\n",
      "Requirement already satisfied: frozenlist>=1.1.1 in /opt/conda/lib/python3.12/site-packages (from aiohttp->openai==0.28) (1.5.0)\n",
      "Requirement already satisfied: multidict<7.0,>=4.5 in /opt/conda/lib/python3.12/site-packages (from aiohttp->openai==0.28) (6.1.0)\n",
      "Requirement already satisfied: propcache>=0.2.0 in /opt/conda/lib/python3.12/site-packages (from aiohttp->openai==0.28) (0.3.0)\n",
      "Requirement already satisfied: yarl<2.0,>=1.17.0 in /opt/conda/lib/python3.12/site-packages (from aiohttp->openai==0.28) (1.18.3)\n",
      "\u001b[33mWARNING: Running pip as the 'root' user can result in broken permissions and conflicting behaviour with the system package manager, possibly rendering your system unusable. It is recommended to use a virtual environment instead: https://pip.pypa.io/warnings/venv. Use the --root-user-action option if you know what you are doing and want to suppress this warning.\u001b[0m\u001b[33m\n",
      "\u001b[0m"
     ]
    }
   ],
   "source": [
    "\n"
   ]
  },
  {
   "cell_type": "code",
   "execution_count": 30,
   "id": "e5a7b552-83ce-4670-a722-63613e371074",
   "metadata": {},
   "outputs": [
    {
     "name": "stdout",
     "output_type": "stream",
     "text": [
      "['The Dark Knight', 'The Lord of the Rings: The Return of the King', 'Seven Samurai', 'Inception', 'The Lord of the Rings: The Fellowship of the Ring']\n"
     ]
    }
   ],
   "source": [
    "\n"
   ]
  },
  {
   "cell_type": "code",
   "execution_count": 33,
   "id": "29378152-4395-48a9-8270-561117435b84",
   "metadata": {},
   "outputs": [
    {
     "name": "stdout",
     "output_type": "stream",
     "text": [
      "GPT Output for 'The Dark Knight':\n",
      "9 out of 10\n",
      "--------------------------------------------------\n",
      "GPT Output for 'The Lord of the Rings: The Return of the King':\n",
      "9.3 out of 10\n",
      "--------------------------------------------------\n",
      "GPT Output for 'Seven Samurai':\n",
      "8.7 out of 10\n",
      "--------------------------------------------------\n",
      "GPT Output for 'Inception':\n",
      "8.8 out of 10\n",
      "--------------------------------------------------\n",
      "GPT Output for 'The Lord of the Rings: The Fellowship of the Ring':\n",
      "9.3 out of 10\n",
      "--------------------------------------------------\n"
     ]
    }
   ],
   "source": [
    "def get_plot_description(title):\n",
    "    prompt = (\n",
    "        f\"Provide a rough aggregated rating for the movie '{title}' based on publicly available internet reviews. \"\n",
    "        \"Your response must be in the format '# out of 10' (e.g., '8.5 out of 10') with no additional text, no explanations, \"\n",
    "        \"no disclaimers, and no symbols.\"\n",
    "    )\n",
    "\n",
    "    response = openai.ChatCompletion.create(\n",
    "        model=\"gpt-4\",\n",
    "        messages=[\n",
    "            {\"role\": \"system\", \"content\": \"Only respond with a numerical rating following the format '# out of 10'.\"},\n",
    "            {\"role\": \"user\", \"content\": prompt}\n",
    "        ],\n",
    "        temperature=0.7,\n",
    "    )\n",
    "\n",
    "\n",
    "    \n",
    "    full_response = response['choices'][0]['message']['content'].strip()\n",
    "    print(f\"GPT Output for '{title}':\\n{full_response}\\n{'-'*50}\")\n",
    "    match = re.search(r\"\\d+(\\.\\d+)? out of 10\", full_response)\n",
    "    return match.group(0) if match else \"N/A\"\n",
    "\n",
    "# Run and check console output\n",
    "movie_descriptions = [get_plot_description(title) for title in movie_titles]"
   ]
  },
  {
   "cell_type": "code",
   "execution_count": null,
   "id": "bafd99af-a3e7-46d7-b5e1-9b2bd39c1a55",
   "metadata": {},
   "outputs": [],
   "source": []
  },
  {
   "cell_type": "code",
   "execution_count": null,
   "id": "1fc813fd-aa20-4343-8b4e-711ddd1a1ef1",
   "metadata": {},
   "outputs": [],
   "source": []
  }
 ],
 "metadata": {
  "kernelspec": {
   "display_name": "Python 3 (ipykernel)",
   "language": "python",
   "name": "python3"
  },
  "language_info": {
   "codemirror_mode": {
    "name": "ipython",
    "version": 3
   },
   "file_extension": ".py",
   "mimetype": "text/x-python",
   "name": "python",
   "nbconvert_exporter": "python",
   "pygments_lexer": "ipython3",
   "version": "3.12.9"
  }
 },
 "nbformat": 4,
 "nbformat_minor": 5
}
